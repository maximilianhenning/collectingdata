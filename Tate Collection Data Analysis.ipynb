{
 "cells": [
  {
   "cell_type": "code",
   "execution_count": 1,
   "id": "d14cc9d9",
   "metadata": {},
   "outputs": [],
   "source": [
    "import pandas as pd\n",
    "import seaborn as sns"
   ]
  },
  {
   "cell_type": "code",
   "execution_count": 2,
   "id": "c3c06660",
   "metadata": {},
   "outputs": [
    {
     "name": "stderr",
     "output_type": "stream",
     "text": [
      "C:\\Users\\lorga\\AppData\\Local\\Temp\\ipykernel_13304\\2387179021.py:2: DtypeWarning: Columns (9,13) have mixed types. Specify dtype option on import or set low_memory=False.\n",
      "  artwork_data = pd.read_csv('C:/Users/lorga/Uni/2. Block/Collecting Data/Lab 4/artwork_data.txt', delimiter=\",\", encoding='utf-8')\n"
     ]
    }
   ],
   "source": [
    "artist_data = pd.read_csv('C:/Users/lorga/Uni/2. Block/Collecting Data/Lab 4/artist_data.txt', delimiter=\",\", encoding='utf-8')\n",
    "artwork_data = pd.read_csv('C:/Users/lorga/Uni/2. Block/Collecting Data/Lab 4/artwork_data.txt', delimiter=\",\", encoding='utf-8')"
   ]
  },
  {
   "cell_type": "code",
   "execution_count": 3,
   "id": "5939cd93",
   "metadata": {},
   "outputs": [
    {
     "data": {
      "text/html": [
       "<div>\n",
       "<style scoped>\n",
       "    .dataframe tbody tr th:only-of-type {\n",
       "        vertical-align: middle;\n",
       "    }\n",
       "\n",
       "    .dataframe tbody tr th {\n",
       "        vertical-align: top;\n",
       "    }\n",
       "\n",
       "    .dataframe thead th {\n",
       "        text-align: right;\n",
       "    }\n",
       "</style>\n",
       "<table border=\"1\" class=\"dataframe\">\n",
       "  <thead>\n",
       "    <tr style=\"text-align: right;\">\n",
       "      <th></th>\n",
       "      <th>id</th>\n",
       "      <th>name</th>\n",
       "      <th>gender</th>\n",
       "      <th>dates</th>\n",
       "      <th>yearOfBirth</th>\n",
       "      <th>yearOfDeath</th>\n",
       "      <th>placeOfBirth</th>\n",
       "      <th>placeOfDeath</th>\n",
       "      <th>url</th>\n",
       "    </tr>\n",
       "  </thead>\n",
       "  <tbody>\n",
       "    <tr>\n",
       "      <th>0</th>\n",
       "      <td>10093</td>\n",
       "      <td>Abakanowicz, Magdalena</td>\n",
       "      <td>Female</td>\n",
       "      <td>born 1930</td>\n",
       "      <td>1930.0</td>\n",
       "      <td>NaN</td>\n",
       "      <td>Polska</td>\n",
       "      <td>NaN</td>\n",
       "      <td>http://www.tate.org.uk/art/artists/magdalena-a...</td>\n",
       "    </tr>\n",
       "    <tr>\n",
       "      <th>1</th>\n",
       "      <td>0</td>\n",
       "      <td>Abbey, Edwin Austin</td>\n",
       "      <td>Male</td>\n",
       "      <td>1852–1911</td>\n",
       "      <td>1852.0</td>\n",
       "      <td>1911.0</td>\n",
       "      <td>Philadelphia, United States</td>\n",
       "      <td>London, United Kingdom</td>\n",
       "      <td>http://www.tate.org.uk/art/artists/edwin-austi...</td>\n",
       "    </tr>\n",
       "    <tr>\n",
       "      <th>2</th>\n",
       "      <td>2756</td>\n",
       "      <td>Abbott, Berenice</td>\n",
       "      <td>Female</td>\n",
       "      <td>1898–1991</td>\n",
       "      <td>1898.0</td>\n",
       "      <td>1991.0</td>\n",
       "      <td>Springfield, United States</td>\n",
       "      <td>Monson, United States</td>\n",
       "      <td>http://www.tate.org.uk/art/artists/berenice-ab...</td>\n",
       "    </tr>\n",
       "    <tr>\n",
       "      <th>3</th>\n",
       "      <td>1</td>\n",
       "      <td>Abbott, Lemuel Francis</td>\n",
       "      <td>Male</td>\n",
       "      <td>1760–1803</td>\n",
       "      <td>1760.0</td>\n",
       "      <td>1803.0</td>\n",
       "      <td>Leicestershire, United Kingdom</td>\n",
       "      <td>London, United Kingdom</td>\n",
       "      <td>http://www.tate.org.uk/art/artists/lemuel-fran...</td>\n",
       "    </tr>\n",
       "    <tr>\n",
       "      <th>4</th>\n",
       "      <td>622</td>\n",
       "      <td>Abrahams, Ivor</td>\n",
       "      <td>Male</td>\n",
       "      <td>born 1935</td>\n",
       "      <td>1935.0</td>\n",
       "      <td>NaN</td>\n",
       "      <td>Wigan, United Kingdom</td>\n",
       "      <td>NaN</td>\n",
       "      <td>http://www.tate.org.uk/art/artists/ivor-abraha...</td>\n",
       "    </tr>\n",
       "  </tbody>\n",
       "</table>\n",
       "</div>"
      ],
      "text/plain": [
       "      id                    name  gender      dates  yearOfBirth  yearOfDeath  \\\n",
       "0  10093  Abakanowicz, Magdalena  Female  born 1930       1930.0          NaN   \n",
       "1      0     Abbey, Edwin Austin    Male  1852–1911       1852.0       1911.0   \n",
       "2   2756        Abbott, Berenice  Female  1898–1991       1898.0       1991.0   \n",
       "3      1  Abbott, Lemuel Francis    Male  1760–1803       1760.0       1803.0   \n",
       "4    622          Abrahams, Ivor    Male  born 1935       1935.0          NaN   \n",
       "\n",
       "                     placeOfBirth            placeOfDeath  \\\n",
       "0                          Polska                     NaN   \n",
       "1     Philadelphia, United States  London, United Kingdom   \n",
       "2      Springfield, United States   Monson, United States   \n",
       "3  Leicestershire, United Kingdom  London, United Kingdom   \n",
       "4           Wigan, United Kingdom                     NaN   \n",
       "\n",
       "                                                 url  \n",
       "0  http://www.tate.org.uk/art/artists/magdalena-a...  \n",
       "1  http://www.tate.org.uk/art/artists/edwin-austi...  \n",
       "2  http://www.tate.org.uk/art/artists/berenice-ab...  \n",
       "3  http://www.tate.org.uk/art/artists/lemuel-fran...  \n",
       "4  http://www.tate.org.uk/art/artists/ivor-abraha...  "
      ]
     },
     "execution_count": 3,
     "metadata": {},
     "output_type": "execute_result"
    }
   ],
   "source": [
    "artist_data.head()"
   ]
  },
  {
   "cell_type": "code",
   "execution_count": 4,
   "id": "b25396d8",
   "metadata": {},
   "outputs": [
    {
     "data": {
      "text/html": [
       "<div>\n",
       "<style scoped>\n",
       "    .dataframe tbody tr th:only-of-type {\n",
       "        vertical-align: middle;\n",
       "    }\n",
       "\n",
       "    .dataframe tbody tr th {\n",
       "        vertical-align: top;\n",
       "    }\n",
       "\n",
       "    .dataframe thead th {\n",
       "        text-align: right;\n",
       "    }\n",
       "</style>\n",
       "<table border=\"1\" class=\"dataframe\">\n",
       "  <thead>\n",
       "    <tr style=\"text-align: right;\">\n",
       "      <th></th>\n",
       "      <th>id</th>\n",
       "      <th>accession_number</th>\n",
       "      <th>artist</th>\n",
       "      <th>artistRole</th>\n",
       "      <th>artistId</th>\n",
       "      <th>title</th>\n",
       "      <th>dateText</th>\n",
       "      <th>medium</th>\n",
       "      <th>creditLine</th>\n",
       "      <th>year</th>\n",
       "      <th>acquisitionYear</th>\n",
       "      <th>dimensions</th>\n",
       "      <th>width</th>\n",
       "      <th>height</th>\n",
       "      <th>depth</th>\n",
       "      <th>units</th>\n",
       "      <th>inscription</th>\n",
       "      <th>thumbnailCopyright</th>\n",
       "      <th>thumbnailUrl</th>\n",
       "      <th>url</th>\n",
       "    </tr>\n",
       "  </thead>\n",
       "  <tbody>\n",
       "    <tr>\n",
       "      <th>0</th>\n",
       "      <td>1035</td>\n",
       "      <td>A00001</td>\n",
       "      <td>Blake, Robert</td>\n",
       "      <td>artist</td>\n",
       "      <td>38</td>\n",
       "      <td>A Figure Bowing before a Seated Old Man with h...</td>\n",
       "      <td>date not known</td>\n",
       "      <td>Watercolour, ink, chalk and graphite on paper....</td>\n",
       "      <td>Presented by Mrs John Richmond 1922</td>\n",
       "      <td>NaN</td>\n",
       "      <td>1922.0</td>\n",
       "      <td>support: 394 x 419 mm</td>\n",
       "      <td>394</td>\n",
       "      <td>419.0</td>\n",
       "      <td>NaN</td>\n",
       "      <td>mm</td>\n",
       "      <td>NaN</td>\n",
       "      <td>NaN</td>\n",
       "      <td>http://www.tate.org.uk/art/images/work/A/A00/A...</td>\n",
       "      <td>http://www.tate.org.uk/art/artworks/blake-a-fi...</td>\n",
       "    </tr>\n",
       "    <tr>\n",
       "      <th>1</th>\n",
       "      <td>1036</td>\n",
       "      <td>A00002</td>\n",
       "      <td>Blake, Robert</td>\n",
       "      <td>artist</td>\n",
       "      <td>38</td>\n",
       "      <td>Two Drawings of Frightened Figures, Probably f...</td>\n",
       "      <td>date not known</td>\n",
       "      <td>Graphite on paper</td>\n",
       "      <td>Presented by Mrs John Richmond 1922</td>\n",
       "      <td>NaN</td>\n",
       "      <td>1922.0</td>\n",
       "      <td>support: 311 x 213 mm</td>\n",
       "      <td>311</td>\n",
       "      <td>213.0</td>\n",
       "      <td>NaN</td>\n",
       "      <td>mm</td>\n",
       "      <td>NaN</td>\n",
       "      <td>NaN</td>\n",
       "      <td>http://www.tate.org.uk/art/images/work/A/A00/A...</td>\n",
       "      <td>http://www.tate.org.uk/art/artworks/blake-two-...</td>\n",
       "    </tr>\n",
       "    <tr>\n",
       "      <th>2</th>\n",
       "      <td>1037</td>\n",
       "      <td>A00003</td>\n",
       "      <td>Blake, Robert</td>\n",
       "      <td>artist</td>\n",
       "      <td>38</td>\n",
       "      <td>The Preaching of Warning. Verso: An Old Man En...</td>\n",
       "      <td>?c.1785</td>\n",
       "      <td>Graphite on paper. Verso: graphite on paper</td>\n",
       "      <td>Presented by Mrs John Richmond 1922</td>\n",
       "      <td>1785.0</td>\n",
       "      <td>1922.0</td>\n",
       "      <td>support: 343 x 467 mm</td>\n",
       "      <td>343</td>\n",
       "      <td>467.0</td>\n",
       "      <td>NaN</td>\n",
       "      <td>mm</td>\n",
       "      <td>NaN</td>\n",
       "      <td>NaN</td>\n",
       "      <td>http://www.tate.org.uk/art/images/work/A/A00/A...</td>\n",
       "      <td>http://www.tate.org.uk/art/artworks/blake-the-...</td>\n",
       "    </tr>\n",
       "    <tr>\n",
       "      <th>3</th>\n",
       "      <td>1038</td>\n",
       "      <td>A00004</td>\n",
       "      <td>Blake, Robert</td>\n",
       "      <td>artist</td>\n",
       "      <td>38</td>\n",
       "      <td>Six Drawings of Figures with Outstretched Arms</td>\n",
       "      <td>date not known</td>\n",
       "      <td>Graphite on paper</td>\n",
       "      <td>Presented by Mrs John Richmond 1922</td>\n",
       "      <td>NaN</td>\n",
       "      <td>1922.0</td>\n",
       "      <td>support: 318 x 394 mm</td>\n",
       "      <td>318</td>\n",
       "      <td>394.0</td>\n",
       "      <td>NaN</td>\n",
       "      <td>mm</td>\n",
       "      <td>NaN</td>\n",
       "      <td>NaN</td>\n",
       "      <td>http://www.tate.org.uk/art/images/work/A/A00/A...</td>\n",
       "      <td>http://www.tate.org.uk/art/artworks/blake-six-...</td>\n",
       "    </tr>\n",
       "    <tr>\n",
       "      <th>4</th>\n",
       "      <td>1039</td>\n",
       "      <td>A00005</td>\n",
       "      <td>Blake, William</td>\n",
       "      <td>artist</td>\n",
       "      <td>39</td>\n",
       "      <td>The Circle of the Lustful: Francesca da Rimini...</td>\n",
       "      <td>1826–7, reprinted 1892</td>\n",
       "      <td>Line engraving on paper</td>\n",
       "      <td>Purchased with the assistance of a special gra...</td>\n",
       "      <td>1826.0</td>\n",
       "      <td>1919.0</td>\n",
       "      <td>image: 243 x 335 mm</td>\n",
       "      <td>243</td>\n",
       "      <td>335.0</td>\n",
       "      <td>NaN</td>\n",
       "      <td>mm</td>\n",
       "      <td>NaN</td>\n",
       "      <td>NaN</td>\n",
       "      <td>http://www.tate.org.uk/art/images/work/A/A00/A...</td>\n",
       "      <td>http://www.tate.org.uk/art/artworks/blake-the-...</td>\n",
       "    </tr>\n",
       "  </tbody>\n",
       "</table>\n",
       "</div>"
      ],
      "text/plain": [
       "     id accession_number          artist artistRole  artistId  \\\n",
       "0  1035           A00001   Blake, Robert     artist        38   \n",
       "1  1036           A00002   Blake, Robert     artist        38   \n",
       "2  1037           A00003   Blake, Robert     artist        38   \n",
       "3  1038           A00004   Blake, Robert     artist        38   \n",
       "4  1039           A00005  Blake, William     artist        39   \n",
       "\n",
       "                                               title                dateText  \\\n",
       "0  A Figure Bowing before a Seated Old Man with h...          date not known   \n",
       "1  Two Drawings of Frightened Figures, Probably f...          date not known   \n",
       "2  The Preaching of Warning. Verso: An Old Man En...                 ?c.1785   \n",
       "3     Six Drawings of Figures with Outstretched Arms          date not known   \n",
       "4  The Circle of the Lustful: Francesca da Rimini...  1826–7, reprinted 1892   \n",
       "\n",
       "                                              medium  \\\n",
       "0  Watercolour, ink, chalk and graphite on paper....   \n",
       "1                                  Graphite on paper   \n",
       "2        Graphite on paper. Verso: graphite on paper   \n",
       "3                                  Graphite on paper   \n",
       "4                            Line engraving on paper   \n",
       "\n",
       "                                          creditLine    year  acquisitionYear  \\\n",
       "0                Presented by Mrs John Richmond 1922     NaN           1922.0   \n",
       "1                Presented by Mrs John Richmond 1922     NaN           1922.0   \n",
       "2                Presented by Mrs John Richmond 1922  1785.0           1922.0   \n",
       "3                Presented by Mrs John Richmond 1922     NaN           1922.0   \n",
       "4  Purchased with the assistance of a special gra...  1826.0           1919.0   \n",
       "\n",
       "              dimensions width height  depth units inscription  \\\n",
       "0  support: 394 x 419 mm   394  419.0    NaN    mm         NaN   \n",
       "1  support: 311 x 213 mm   311  213.0    NaN    mm         NaN   \n",
       "2  support: 343 x 467 mm   343  467.0    NaN    mm         NaN   \n",
       "3  support: 318 x 394 mm   318  394.0    NaN    mm         NaN   \n",
       "4    image: 243 x 335 mm   243  335.0    NaN    mm         NaN   \n",
       "\n",
       "  thumbnailCopyright                                       thumbnailUrl  \\\n",
       "0                NaN  http://www.tate.org.uk/art/images/work/A/A00/A...   \n",
       "1                NaN  http://www.tate.org.uk/art/images/work/A/A00/A...   \n",
       "2                NaN  http://www.tate.org.uk/art/images/work/A/A00/A...   \n",
       "3                NaN  http://www.tate.org.uk/art/images/work/A/A00/A...   \n",
       "4                NaN  http://www.tate.org.uk/art/images/work/A/A00/A...   \n",
       "\n",
       "                                                 url  \n",
       "0  http://www.tate.org.uk/art/artworks/blake-a-fi...  \n",
       "1  http://www.tate.org.uk/art/artworks/blake-two-...  \n",
       "2  http://www.tate.org.uk/art/artworks/blake-the-...  \n",
       "3  http://www.tate.org.uk/art/artworks/blake-six-...  \n",
       "4  http://www.tate.org.uk/art/artworks/blake-the-...  "
      ]
     },
     "execution_count": 4,
     "metadata": {},
     "output_type": "execute_result"
    }
   ],
   "source": [
    "artwork_data.head()"
   ]
  },
  {
   "cell_type": "code",
   "execution_count": 48,
   "id": "40b70725",
   "metadata": {},
   "outputs": [
    {
     "data": {
      "text/html": [
       "<div>\n",
       "<style scoped>\n",
       "    .dataframe tbody tr th:only-of-type {\n",
       "        vertical-align: middle;\n",
       "    }\n",
       "\n",
       "    .dataframe tbody tr th {\n",
       "        vertical-align: top;\n",
       "    }\n",
       "\n",
       "    .dataframe thead th {\n",
       "        text-align: right;\n",
       "    }\n",
       "</style>\n",
       "<table border=\"1\" class=\"dataframe\">\n",
       "  <thead>\n",
       "    <tr style=\"text-align: right;\">\n",
       "      <th></th>\n",
       "      <th>id_x</th>\n",
       "      <th>name</th>\n",
       "      <th>gender</th>\n",
       "      <th>dates</th>\n",
       "      <th>yearOfBirth</th>\n",
       "      <th>yearOfDeath</th>\n",
       "      <th>placeOfBirth</th>\n",
       "      <th>placeOfDeath</th>\n",
       "      <th>url_x</th>\n",
       "      <th>countryOfBirth</th>\n",
       "      <th>...</th>\n",
       "      <th>acquisitionYear</th>\n",
       "      <th>dimensions</th>\n",
       "      <th>width</th>\n",
       "      <th>height</th>\n",
       "      <th>depth</th>\n",
       "      <th>units</th>\n",
       "      <th>inscription</th>\n",
       "      <th>thumbnailCopyright</th>\n",
       "      <th>thumbnailUrl</th>\n",
       "      <th>url_y</th>\n",
       "    </tr>\n",
       "  </thead>\n",
       "  <tbody>\n",
       "    <tr>\n",
       "      <th>0</th>\n",
       "      <td>10093</td>\n",
       "      <td>Abakanowicz, Magdalena</td>\n",
       "      <td>Female</td>\n",
       "      <td>born 1930</td>\n",
       "      <td>1930.0</td>\n",
       "      <td>NaN</td>\n",
       "      <td>Polska</td>\n",
       "      <td>NaN</td>\n",
       "      <td>http://www.tate.org.uk/art/artists/magdalena-a...</td>\n",
       "      <td>Polska</td>\n",
       "      <td>...</td>\n",
       "      <td>2009.0</td>\n",
       "      <td>Overall display dimensions variable</td>\n",
       "      <td>NaN</td>\n",
       "      <td>NaN</td>\n",
       "      <td>NaN</td>\n",
       "      <td>NaN</td>\n",
       "      <td>NaN</td>\n",
       "      <td>© Magdalena Abakanowicz</td>\n",
       "      <td>http://www.tate.org.uk/art/images/work/T/T12/T...</td>\n",
       "      <td>http://www.tate.org.uk/art/artworks/abakanowic...</td>\n",
       "    </tr>\n",
       "    <tr>\n",
       "      <th>1</th>\n",
       "      <td>10093</td>\n",
       "      <td>Abakanowicz, Magdalena</td>\n",
       "      <td>Female</td>\n",
       "      <td>born 1930</td>\n",
       "      <td>1930.0</td>\n",
       "      <td>NaN</td>\n",
       "      <td>Polska</td>\n",
       "      <td>NaN</td>\n",
       "      <td>http://www.tate.org.uk/art/artists/magdalena-a...</td>\n",
       "      <td>Polska</td>\n",
       "      <td>...</td>\n",
       "      <td>2009.0</td>\n",
       "      <td>Display dimensions: 4050 x 3820 x 4000 mm</td>\n",
       "      <td>NaN</td>\n",
       "      <td>NaN</td>\n",
       "      <td>NaN</td>\n",
       "      <td>NaN</td>\n",
       "      <td>NaN</td>\n",
       "      <td>© Magdalena Abakanowicz</td>\n",
       "      <td>http://www.tate.org.uk/art/images/work/T/T12/T...</td>\n",
       "      <td>http://www.tate.org.uk/art/artworks/abakanowic...</td>\n",
       "    </tr>\n",
       "    <tr>\n",
       "      <th>2</th>\n",
       "      <td>10093</td>\n",
       "      <td>Abakanowicz, Magdalena</td>\n",
       "      <td>Female</td>\n",
       "      <td>born 1930</td>\n",
       "      <td>1930.0</td>\n",
       "      <td>NaN</td>\n",
       "      <td>Polska</td>\n",
       "      <td>NaN</td>\n",
       "      <td>http://www.tate.org.uk/art/artists/magdalena-a...</td>\n",
       "      <td>Polska</td>\n",
       "      <td>...</td>\n",
       "      <td>2009.0</td>\n",
       "      <td>Display dimensions: 4010 x 2900 x 3700 mm</td>\n",
       "      <td>NaN</td>\n",
       "      <td>NaN</td>\n",
       "      <td>NaN</td>\n",
       "      <td>NaN</td>\n",
       "      <td>NaN</td>\n",
       "      <td>© Magdalena Abakanowicz</td>\n",
       "      <td>http://www.tate.org.uk/art/images/work/T/T12/T...</td>\n",
       "      <td>http://www.tate.org.uk/art/artworks/abakanowic...</td>\n",
       "    </tr>\n",
       "    <tr>\n",
       "      <th>3</th>\n",
       "      <td>10093</td>\n",
       "      <td>Abakanowicz, Magdalena</td>\n",
       "      <td>Female</td>\n",
       "      <td>born 1930</td>\n",
       "      <td>1930.0</td>\n",
       "      <td>NaN</td>\n",
       "      <td>Polska</td>\n",
       "      <td>NaN</td>\n",
       "      <td>http://www.tate.org.uk/art/artists/magdalena-a...</td>\n",
       "      <td>Polska</td>\n",
       "      <td>...</td>\n",
       "      <td>2009.0</td>\n",
       "      <td>object, each: 660 x 580 x 680 mm</td>\n",
       "      <td>NaN</td>\n",
       "      <td>NaN</td>\n",
       "      <td>NaN</td>\n",
       "      <td>NaN</td>\n",
       "      <td>NaN</td>\n",
       "      <td>© Magdalena Abakanowicz</td>\n",
       "      <td>http://www.tate.org.uk/art/images/work/T/T12/T...</td>\n",
       "      <td>http://www.tate.org.uk/art/artworks/abakanowic...</td>\n",
       "    </tr>\n",
       "    <tr>\n",
       "      <th>4</th>\n",
       "      <td>0</td>\n",
       "      <td>Abbey, Edwin Austin</td>\n",
       "      <td>Male</td>\n",
       "      <td>1852–1911</td>\n",
       "      <td>1852.0</td>\n",
       "      <td>1911.0</td>\n",
       "      <td>Philadelphia, United States</td>\n",
       "      <td>London, United Kingdom</td>\n",
       "      <td>http://www.tate.org.uk/art/artists/edwin-austi...</td>\n",
       "      <td>United States</td>\n",
       "      <td>...</td>\n",
       "      <td>1924.0</td>\n",
       "      <td>support: 251 x 295 mm</td>\n",
       "      <td>251</td>\n",
       "      <td>295</td>\n",
       "      <td>NaN</td>\n",
       "      <td>mm</td>\n",
       "      <td>NaN</td>\n",
       "      <td>NaN</td>\n",
       "      <td>http://www.tate.org.uk/art/images/work/N/N03/N...</td>\n",
       "      <td>http://www.tate.org.uk/art/artworks/abbey-illu...</td>\n",
       "    </tr>\n",
       "  </tbody>\n",
       "</table>\n",
       "<p>5 rows × 30 columns</p>\n",
       "</div>"
      ],
      "text/plain": [
       "    id_x                    name  gender      dates  yearOfBirth  yearOfDeath  \\\n",
       "0  10093  Abakanowicz, Magdalena  Female  born 1930       1930.0          NaN   \n",
       "1  10093  Abakanowicz, Magdalena  Female  born 1930       1930.0          NaN   \n",
       "2  10093  Abakanowicz, Magdalena  Female  born 1930       1930.0          NaN   \n",
       "3  10093  Abakanowicz, Magdalena  Female  born 1930       1930.0          NaN   \n",
       "4      0     Abbey, Edwin Austin    Male  1852–1911       1852.0       1911.0   \n",
       "\n",
       "                  placeOfBirth            placeOfDeath  \\\n",
       "0                       Polska                     NaN   \n",
       "1                       Polska                     NaN   \n",
       "2                       Polska                     NaN   \n",
       "3                       Polska                     NaN   \n",
       "4  Philadelphia, United States  London, United Kingdom   \n",
       "\n",
       "                                               url_x  countryOfBirth  ...  \\\n",
       "0  http://www.tate.org.uk/art/artists/magdalena-a...          Polska  ...   \n",
       "1  http://www.tate.org.uk/art/artists/magdalena-a...          Polska  ...   \n",
       "2  http://www.tate.org.uk/art/artists/magdalena-a...          Polska  ...   \n",
       "3  http://www.tate.org.uk/art/artists/magdalena-a...          Polska  ...   \n",
       "4  http://www.tate.org.uk/art/artists/edwin-austi...   United States  ...   \n",
       "\n",
       "   acquisitionYear                                 dimensions width height  \\\n",
       "0           2009.0        Overall display dimensions variable   NaN    NaN   \n",
       "1           2009.0  Display dimensions: 4050 x 3820 x 4000 mm   NaN    NaN   \n",
       "2           2009.0  Display dimensions: 4010 x 2900 x 3700 mm   NaN    NaN   \n",
       "3           2009.0           object, each: 660 x 580 x 680 mm   NaN    NaN   \n",
       "4           1924.0                      support: 251 x 295 mm   251    295   \n",
       "\n",
       "   depth units inscription        thumbnailCopyright  \\\n",
       "0    NaN   NaN         NaN  © Magdalena Abakanowicz    \n",
       "1    NaN   NaN         NaN  © Magdalena Abakanowicz    \n",
       "2    NaN   NaN         NaN  © Magdalena Abakanowicz    \n",
       "3    NaN   NaN         NaN  © Magdalena Abakanowicz    \n",
       "4    NaN    mm         NaN                       NaN   \n",
       "\n",
       "                                        thumbnailUrl  \\\n",
       "0  http://www.tate.org.uk/art/images/work/T/T12/T...   \n",
       "1  http://www.tate.org.uk/art/images/work/T/T12/T...   \n",
       "2  http://www.tate.org.uk/art/images/work/T/T12/T...   \n",
       "3  http://www.tate.org.uk/art/images/work/T/T12/T...   \n",
       "4  http://www.tate.org.uk/art/images/work/N/N03/N...   \n",
       "\n",
       "                                               url_y  \n",
       "0  http://www.tate.org.uk/art/artworks/abakanowic...  \n",
       "1  http://www.tate.org.uk/art/artworks/abakanowic...  \n",
       "2  http://www.tate.org.uk/art/artworks/abakanowic...  \n",
       "3  http://www.tate.org.uk/art/artworks/abakanowic...  \n",
       "4  http://www.tate.org.uk/art/artworks/abbey-illu...  \n",
       "\n",
       "[5 rows x 30 columns]"
      ]
     },
     "execution_count": 48,
     "metadata": {},
     "output_type": "execute_result"
    }
   ],
   "source": [
    "combined_data = artist_data.merge(artwork_data, left_on = \"name\", right_on = \"artist\")\n",
    "combined_data.head()"
   ]
  },
  {
   "cell_type": "markdown",
   "id": "dce05366",
   "metadata": {},
   "source": [
    "How many acquisitions per year?"
   ]
  },
  {
   "cell_type": "code",
   "execution_count": 71,
   "id": "6df47898",
   "metadata": {},
   "outputs": [
    {
     "data": {
      "text/plain": [
       "<AxesSubplot:xlabel='year', ylabel='counts'>"
      ]
     },
     "execution_count": 71,
     "metadata": {},
     "output_type": "execute_result"
    },
    {
     "data": {
      "image/png": "[encoded data removed]",
      "text/plain": [
       "<Figure size 432x288 with 1 Axes>"
      ]
     },
     "metadata": {
      "needs_background": "light"
     },
     "output_type": "display_data"
    }
   ],
   "source": [
    "# Drop 1856 because it is a strong outlier\n",
    "combined_data_clean = combined_data[combined_data[\"acquisitionYear\"] != 1856]\n",
    "acqs_time = combined_data_clean.value_counts(\"acquisitionYear\")\n",
    "acqs_time = acqs_time.rename_axis(\"year\").reset_index(name='counts')\n",
    "acqs_time\n",
    "acqs_time.plot(kind='scatter', x=\"year\", y=\"counts\", color='red')"
   ]
  },
  {
   "cell_type": "markdown",
   "id": "e5fd640f",
   "metadata": {},
   "source": [
    "How many artworks per gender?"
   ]
  },
  {
   "cell_type": "code",
   "execution_count": 9,
   "id": "cc7878ab",
   "metadata": {},
   "outputs": [
    {
     "data": {
      "text/plain": [
       "gender\n",
       "Male      65892\n",
       "Female     2727\n",
       "dtype: int64"
      ]
     },
     "execution_count": 9,
     "metadata": {},
     "output_type": "execute_result"
    }
   ],
   "source": [
    "combined_data.value_counts([\"gender\"])"
   ]
  },
  {
   "cell_type": "markdown",
   "id": "1db55481",
   "metadata": {},
   "source": [
    "Does this change by acquisition year?"
   ]
  },
  {
   "cell_type": "code",
   "execution_count": 54,
   "id": "6929574a",
   "metadata": {},
   "outputs": [
    {
     "data": {
      "text/plain": [
       "<AxesSubplot:xlabel='year', ylabel='counts'>"
      ]
     },
     "execution_count": 54,
     "metadata": {},
     "output_type": "execute_result"
    },
    {
     "data": {
      "image/png": "[encoded data removed]",
      "text/plain": [
       "<Figure size 432x288 with 1 Axes>"
      ]
     },
     "metadata": {
      "needs_background": "light"
     },
     "output_type": "display_data"
    }
   ],
   "source": [
    "women_years = combined_data_clean[combined_data_clean[\"gender\"] == \"Female\"].value_counts(\"acquisitionYear\")\n",
    "women_years = women_years.rename_axis(\"year\").reset_index(name='counts')\n",
    "men_years = combined_data_clean[combined_data_clean[\"gender\"] == \"Male\"].value_counts(\"acquisitionYear\")\n",
    "men_years = men_years.rename_axis(\"year\").reset_index(name='counts')\n",
    "ax = men_years.plot(kind='scatter', x=\"year\", y=\"counts\", color='red')\n",
    "women_years.plot(ax=ax, kind='scatter', x='year', y=\"counts\", color='blue')"
   ]
  },
  {
   "cell_type": "markdown",
   "id": "a3a2f2e4",
   "metadata": {},
   "source": [
    "Which artist does the Tate own the most artworks of?"
   ]
  },
  {
   "cell_type": "code",
   "execution_count": 5,
   "id": "ab426a9f",
   "metadata": {},
   "outputs": [
    {
     "data": {
      "text/plain": [
       "artist\n",
       "Turner, Joseph Mallord William    39389\n",
       "Jones, George                      1046\n",
       "Moore, Henry, OM, CH                623\n",
       "Daniell, William                    612\n",
       "Beuys, Joseph                       578\n",
       "dtype: int64"
      ]
     },
     "execution_count": 5,
     "metadata": {},
     "output_type": "execute_result"
    }
   ],
   "source": [
    "artwork_data.value_counts(\"artist\").head(5)"
   ]
  },
  {
   "cell_type": "markdown",
   "id": "8a085999",
   "metadata": {},
   "source": [
    "That is a lot of Turner. What proportion of all of the Tate's artworks are by Turner?"
   ]
  },
  {
   "cell_type": "code",
   "execution_count": 17,
   "id": "536cc7f6",
   "metadata": {},
   "outputs": [
    {
     "data": {
      "text/plain": [
       "0.5691969769222988"
      ]
     },
     "execution_count": 17,
     "metadata": {},
     "output_type": "execute_result"
    }
   ],
   "source": [
    "artwork_data.value_counts(\"artist\")[0] / len(artwork_data)"
   ]
  },
  {
   "cell_type": "markdown",
   "id": "c255aaf5",
   "metadata": {},
   "source": [
    "What proportions of the Tate's artists come from what country?"
   ]
  },
  {
   "cell_type": "code",
   "execution_count": 82,
   "id": "2c9ab164",
   "metadata": {},
   "outputs": [
    {
     "data": {
      "text/plain": [
       "countryOfBirth\n",
       " United Kingdom    0.419309\n",
       " United States     0.093715\n",
       " France            0.042186\n",
       " Deutschland       0.037939\n",
       " Italia            0.021518\n",
       "                     ...   \n",
       "Douglas            0.000283\n",
       " Pilipinas         0.000283\n",
       " Prathet Thai      0.000283\n",
       "Cuba               0.000283\n",
       "Armenia            0.000283\n",
       "Length: 172, dtype: float64"
      ]
     },
     "execution_count": 82,
     "metadata": {},
     "output_type": "execute_result"
    }
   ],
   "source": [
    "artist_data[\"countryOfBirth\"] = artist_data[\"placeOfBirth\"].str.split(pat=\",\").str[-1]\n",
    "artist_data.value_counts(\"countryOfBirth\") / len(artist_data)"
   ]
  },
  {
   "cell_type": "markdown",
   "id": "b9218e50",
   "metadata": {},
   "source": [
    "How many of its artworks did the Tate acquire while their artists were still alive?"
   ]
  },
  {
   "cell_type": "code",
   "execution_count": 69,
   "id": "fdc36924",
   "metadata": {},
   "outputs": [
    {
     "data": {
      "text/plain": [
       "15810"
      ]
     },
     "execution_count": 69,
     "metadata": {},
     "output_type": "execute_result"
    }
   ],
   "source": [
    "(combined_data[\"yearOfDeath\"] - combined_data[\"acquisitionYear\"] > 0).sum() + combined_data[\"yearOfDeath\"].isna().sum()"
   ]
  },
  {
   "cell_type": "markdown",
   "id": "f17eaa5c",
   "metadata": {},
   "source": [
    "For the other ones, how long after the artist's death did the Tate acquire the artwork?"
   ]
  },
  {
   "cell_type": "code",
   "execution_count": 81,
   "id": "daa0b776",
   "metadata": {},
   "outputs": [
    {
     "data": {
      "text/plain": [
       "29.00354102312966"
      ]
     },
     "execution_count": 81,
     "metadata": {},
     "output_type": "execute_result"
    }
   ],
   "source": [
    "combined_data[\"waitTime\"] = combined_data[\"acquisitionYear\"] - combined_data[\"yearOfDeath\"]\n",
    "combined_data[combined_data[\"waitTime\"] > 0][\"waitTime\"].mean()"
   ]
  },
  {
   "cell_type": "code",
   "execution_count": null,
   "id": "88fd9998",
   "metadata": {},
   "outputs": [],
   "source": []
  }
 ],
 "metadata": {
  "kernelspec": {
   "display_name": "Python 3 (ipykernel)",
   "language": "python",
   "name": "python3"
  },
  "language_info": {
   "codemirror_mode": {
    "name": "ipython",
    "version": 3
   },
   "file_extension": ".py",
   "mimetype": "text/x-python",
   "name": "python",
   "nbconvert_exporter": "python",
   "pygments_lexer": "ipython3",
   "version": "3.9.12"
  }
 },
 "nbformat": 4,
 "nbformat_minor": 5
}
